{
  "nbformat": 4,
  "nbformat_minor": 0,
  "metadata": {
    "colab": {
      "provenance": [],
      "authorship_tag": "ABX9TyMscMs6tDllR3VvYBsyRYIr",
      "include_colab_link": true
    },
    "kernelspec": {
      "name": "python3",
      "display_name": "Python 3"
    },
    "language_info": {
      "name": "python"
    }
  },
  "cells": [
    {
      "cell_type": "markdown",
      "metadata": {
        "id": "view-in-github",
        "colab_type": "text"
      },
      "source": [
        "<a href=\"https://colab.research.google.com/github/mercynt/showcasewe/blob/main/Untitled0.ipynb\" target=\"_parent\"><img src=\"https://colab.research.google.com/assets/colab-badge.svg\" alt=\"Open In Colab\"/></a>"
      ]
    },
    {
      "cell_type": "code",
      "execution_count": null,
      "metadata": {
        "colab": {
          "base_uri": "https://localhost:8080/"
        },
        "id": "g9fQJfFLcrnU",
        "outputId": "27caa8c1-68af-45ea-cf47-db7fcffde383"
      },
      "outputs": [
        {
          "output_type": "execute_result",
          "data": {
            "text/plain": [
              "3"
            ]
          },
          "metadata": {},
          "execution_count": 4
        }
      ],
      "source": [
        "5-2 #this is my first code"
      ]
    },
    {
      "cell_type": "code",
      "source": [
        "print(\"Hello World!\")"
      ],
      "metadata": {
        "colab": {
          "base_uri": "https://localhost:8080/"
        },
        "id": "8lbtuWu3lhXv",
        "outputId": "458dc46a-c2d4-4225-ead4-59dccc7bbfbb"
      },
      "execution_count": null,
      "outputs": [
        {
          "output_type": "stream",
          "name": "stdout",
          "text": [
            "Hello World!\n"
          ]
        }
      ]
    },
    {
      "cell_type": "code",
      "source": [
        "type(2)\n"
      ],
      "metadata": {
        "colab": {
          "base_uri": "https://localhost:8080/"
        },
        "id": "I2gxVV21lor9",
        "outputId": "e3b4822f-13b1-4ba8-c3f9-ca29056da89c"
      },
      "execution_count": null,
      "outputs": [
        {
          "output_type": "execute_result",
          "data": {
            "text/plain": [
              "int"
            ]
          },
          "metadata": {},
          "execution_count": 6
        }
      ]
    },
    {
      "cell_type": "code",
      "source": [
        "type(2.2)"
      ],
      "metadata": {
        "colab": {
          "base_uri": "https://localhost:8080/"
        },
        "id": "I7ySHdocmnff",
        "outputId": "0523eda5-8f45-4710-8b84-ae75c04353b3"
      },
      "execution_count": null,
      "outputs": [
        {
          "output_type": "execute_result",
          "data": {
            "text/plain": [
              "float"
            ]
          },
          "metadata": {},
          "execution_count": 7
        }
      ]
    },
    {
      "cell_type": "code",
      "source": [
        "type(True)"
      ],
      "metadata": {
        "colab": {
          "base_uri": "https://localhost:8080/"
        },
        "id": "hW4F5yXsmuey",
        "outputId": "cf8c27a6-3d56-430a-f88e-2a0791efabe7"
      },
      "execution_count": null,
      "outputs": [
        {
          "output_type": "execute_result",
          "data": {
            "text/plain": [
              "bool"
            ]
          },
          "metadata": {},
          "execution_count": 8
        }
      ]
    },
    {
      "cell_type": "code",
      "source": [
        "type(\"python\")"
      ],
      "metadata": {
        "colab": {
          "base_uri": "https://localhost:8080/"
        },
        "id": "hI7LIhFSm49n",
        "outputId": "64cafc1b-4d01-4bdf-ce26-3ae36e8a43cc"
      },
      "execution_count": null,
      "outputs": [
        {
          "output_type": "execute_result",
          "data": {
            "text/plain": [
              "str"
            ]
          },
          "metadata": {},
          "execution_count": 9
        }
      ]
    },
    {
      "cell_type": "code",
      "source": [
        "type([1,2,3])"
      ],
      "metadata": {
        "colab": {
          "base_uri": "https://localhost:8080/"
        },
        "id": "tZnHjM89nCtY",
        "outputId": "c3a43101-76ad-4ced-cbfc-858f81bc5de2"
      },
      "execution_count": null,
      "outputs": [
        {
          "output_type": "execute_result",
          "data": {
            "text/plain": [
              "list"
            ]
          },
          "metadata": {},
          "execution_count": 10
        }
      ]
    },
    {
      "cell_type": "code",
      "source": [
        "type({\"apple\",\"mango\"})"
      ],
      "metadata": {
        "colab": {
          "base_uri": "https://localhost:8080/"
        },
        "id": "_6O3j7conOvp",
        "outputId": "9843f536-72ad-438d-ac11-9a77236196eb"
      },
      "execution_count": null,
      "outputs": [
        {
          "output_type": "execute_result",
          "data": {
            "text/plain": [
              "set"
            ]
          },
          "metadata": {},
          "execution_count": 11
        }
      ]
    },
    {
      "cell_type": "code",
      "source": [
        "print(\"hello\")"
      ],
      "metadata": {
        "colab": {
          "base_uri": "https://localhost:8080/"
        },
        "id": "EtphlZvXnsCj",
        "outputId": "8478083a-b8d4-45b4-9b86-53b9e0c21489"
      },
      "execution_count": null,
      "outputs": [
        {
          "output_type": "stream",
          "name": "stdout",
          "text": [
            "hello\n"
          ]
        }
      ]
    },
    {
      "cell_type": "code",
      "source": [
        "country_name =\"United Kingdom\"\n",
        "print(country_name)\n"
      ],
      "metadata": {
        "colab": {
          "base_uri": "https://localhost:8080/"
        },
        "id": "l_rt9FLAn8Go",
        "outputId": "1ea93f26-6d7b-497a-a15c-50c02189c5f9"
      },
      "execution_count": null,
      "outputs": [
        {
          "output_type": "stream",
          "name": "stdout",
          "text": [
            "United Kingdom\n"
          ]
        }
      ]
    },
    {
      "cell_type": "code",
      "source": [
        "mystring=\"This is a string\"\n",
        "len(mystring)"
      ],
      "metadata": {
        "colab": {
          "base_uri": "https://localhost:8080/"
        },
        "id": "kYeNZjflohv-",
        "outputId": "e9486146-6acf-4821-8fd5-012efde80bb1"
      },
      "execution_count": null,
      "outputs": [
        {
          "output_type": "execute_result",
          "data": {
            "text/plain": [
              "16"
            ]
          },
          "metadata": {},
          "execution_count": 14
        }
      ]
    },
    {
      "cell_type": "code",
      "source": [
        "num = 423\n",
        "type(num)"
      ],
      "metadata": {
        "colab": {
          "base_uri": "https://localhost:8080/"
        },
        "id": "AB3fzSb5pGmx",
        "outputId": "d5a078fc-1570-4814-a95d-d073be562f45"
      },
      "execution_count": null,
      "outputs": [
        {
          "output_type": "execute_result",
          "data": {
            "text/plain": [
              "int"
            ]
          },
          "metadata": {},
          "execution_count": 15
        }
      ]
    },
    {
      "cell_type": "code",
      "source": [
        "str(num)"
      ],
      "metadata": {
        "colab": {
          "base_uri": "https://localhost:8080/",
          "height": 36
        },
        "id": "dBqCf1tdpQid",
        "outputId": "45443a33-a72b-4f28-f767-3b1646574f89"
      },
      "execution_count": null,
      "outputs": [
        {
          "output_type": "execute_result",
          "data": {
            "text/plain": [
              "'423'"
            ],
            "application/vnd.google.colaboratory.intrinsic+json": {
              "type": "string"
            }
          },
          "metadata": {},
          "execution_count": 16
        }
      ]
    },
    {
      "cell_type": "code",
      "source": [
        "num1 = 4.356\n",
        "type(num1)"
      ],
      "metadata": {
        "colab": {
          "base_uri": "https://localhost:8080/"
        },
        "id": "BBsu4fa_pbxS",
        "outputId": "b64eaa76-8cb3-4f11-de53-b71e7506334c"
      },
      "execution_count": null,
      "outputs": [
        {
          "output_type": "execute_result",
          "data": {
            "text/plain": [
              "float"
            ]
          },
          "metadata": {},
          "execution_count": 17
        }
      ]
    },
    {
      "cell_type": "code",
      "source": [
        "int(num1)"
      ],
      "metadata": {
        "colab": {
          "base_uri": "https://localhost:8080/"
        },
        "id": "DoMKLPlUpkiM",
        "outputId": "61e84f9a-47aa-434d-b182-10ea6082b217"
      },
      "execution_count": null,
      "outputs": [
        {
          "output_type": "execute_result",
          "data": {
            "text/plain": [
              "4"
            ]
          },
          "metadata": {},
          "execution_count": 18
        }
      ]
    },
    {
      "cell_type": "code",
      "source": [
        "num2 = \"453\"\n",
        "type(num2)"
      ],
      "metadata": {
        "colab": {
          "base_uri": "https://localhost:8080/"
        },
        "id": "h7Ylh9sBposH",
        "outputId": "36affd3e-e351-497d-c568-6b18533d699e"
      },
      "execution_count": null,
      "outputs": [
        {
          "output_type": "execute_result",
          "data": {
            "text/plain": [
              "str"
            ]
          },
          "metadata": {},
          "execution_count": 19
        }
      ]
    },
    {
      "cell_type": "code",
      "source": [
        "int(num2)"
      ],
      "metadata": {
        "colab": {
          "base_uri": "https://localhost:8080/"
        },
        "id": "ZCRE9-iEp0CX",
        "outputId": "62754175-1d65-4c59-cded-e5e5c394ab6b"
      },
      "execution_count": null,
      "outputs": [
        {
          "output_type": "execute_result",
          "data": {
            "text/plain": [
              "453"
            ]
          },
          "metadata": {},
          "execution_count": 20
        }
      ]
    },
    {
      "cell_type": "code",
      "source": [
        "num3 =\"print\"\n",
        "type(num3)"
      ],
      "metadata": {
        "colab": {
          "base_uri": "https://localhost:8080/"
        },
        "id": "pimYaRn5qKqp",
        "outputId": "6e785c72-2d50-443b-8c3b-4c92cf723d44"
      },
      "execution_count": null,
      "outputs": [
        {
          "output_type": "execute_result",
          "data": {
            "text/plain": [
              "str"
            ]
          },
          "metadata": {},
          "execution_count": 21
        }
      ]
    },
    {
      "cell_type": "code",
      "source": [
        "print(\"Their apparent \\\"intention\\\" was not honest\")"
      ],
      "metadata": {
        "colab": {
          "base_uri": "https://localhost:8080/"
        },
        "id": "bE_TL9-eqm72",
        "outputId": "ccc28484-58d1-4bcb-9ff2-8583706bdc93"
      },
      "execution_count": null,
      "outputs": [
        {
          "output_type": "stream",
          "name": "stdout",
          "text": [
            "Their apparent \"intention\" was not honest\n"
          ]
        }
      ]
    },
    {
      "cell_type": "code",
      "source": [
        "print(\"Their apparent \\nintention was not honest\")"
      ],
      "metadata": {
        "colab": {
          "base_uri": "https://localhost:8080/"
        },
        "id": "OSo85ft9qoaC",
        "outputId": "d47aef32-72b1-447e-b6c4-65db2ce94070"
      },
      "execution_count": null,
      "outputs": [
        {
          "output_type": "stream",
          "name": "stdout",
          "text": [
            "Their apparent \n",
            "intention was not honest\n"
          ]
        }
      ]
    },
    {
      "cell_type": "code",
      "source": [
        "print(\"Their apparent \\tintention was not honest\")"
      ],
      "metadata": {
        "colab": {
          "base_uri": "https://localhost:8080/"
        },
        "id": "-x1tdREwqn49",
        "outputId": "860a2240-0e60-467e-ff03-607b20d02618"
      },
      "execution_count": null,
      "outputs": [
        {
          "output_type": "stream",
          "name": "stdout",
          "text": [
            "Their apparent \tintention was not honest\n"
          ]
        }
      ]
    },
    {
      "cell_type": "code",
      "source": [
        "print(\"Their apparent \\bintention was not honest\")"
      ],
      "metadata": {
        "colab": {
          "base_uri": "https://localhost:8080/"
        },
        "id": "f06psh6Nr06y",
        "outputId": "e6430b50-508c-4c39-85c6-4135e81fa1d8"
      },
      "execution_count": null,
      "outputs": [
        {
          "output_type": "stream",
          "name": "stdout",
          "text": [
            "Their apparent \bintention was not honest\n"
          ]
        }
      ]
    },
    {
      "cell_type": "code",
      "source": [
        "my_string = \"HELLO\"\n",
        "my_string[1:4]\n",
        "my_string[3]"
      ],
      "metadata": {
        "colab": {
          "base_uri": "https://localhost:8080/",
          "height": 36
        },
        "id": "7MTROHFOsDIf",
        "outputId": "68ff8181-0d87-4a6b-ea23-8dd7e0ea0408"
      },
      "execution_count": null,
      "outputs": [
        {
          "output_type": "execute_result",
          "data": {
            "text/plain": [
              "'L'"
            ],
            "application/vnd.google.colaboratory.intrinsic+json": {
              "type": "string"
            }
          },
          "metadata": {},
          "execution_count": 26
        }
      ]
    },
    {
      "cell_type": "code",
      "source": [
        "my_string[3]"
      ],
      "metadata": {
        "colab": {
          "base_uri": "https://localhost:8080/",
          "height": 36
        },
        "id": "QAuliHfMt_Rx",
        "outputId": "777e44b6-3e2c-4649-b415-a854661db346"
      },
      "execution_count": null,
      "outputs": [
        {
          "output_type": "execute_result",
          "data": {
            "text/plain": [
              "'L'"
            ],
            "application/vnd.google.colaboratory.intrinsic+json": {
              "type": "string"
            }
          },
          "metadata": {},
          "execution_count": 27
        }
      ]
    },
    {
      "cell_type": "code",
      "source": [
        "my_string[::-3]"
      ],
      "metadata": {
        "colab": {
          "base_uri": "https://localhost:8080/",
          "height": 36
        },
        "id": "6uFbh_zWvU8f",
        "outputId": "76b91a0a-e260-4208-c568-d21d5d114698"
      },
      "execution_count": null,
      "outputs": [
        {
          "output_type": "execute_result",
          "data": {
            "text/plain": [
              "'OE'"
            ],
            "application/vnd.google.colaboratory.intrinsic+json": {
              "type": "string"
            }
          },
          "metadata": {},
          "execution_count": 28
        }
      ]
    },
    {
      "cell_type": "code",
      "source": [
        "my_string[::1]"
      ],
      "metadata": {
        "colab": {
          "base_uri": "https://localhost:8080/",
          "height": 36
        },
        "id": "66mfrZ8wwHx4",
        "outputId": "2015f375-1285-46b8-ff05-cbb795cf7049"
      },
      "execution_count": null,
      "outputs": [
        {
          "output_type": "execute_result",
          "data": {
            "text/plain": [
              "'HELLO'"
            ],
            "application/vnd.google.colaboratory.intrinsic+json": {
              "type": "string"
            }
          },
          "metadata": {},
          "execution_count": 29
        }
      ]
    },
    {
      "cell_type": "code",
      "source": [
        "mystring3=\"LEARNING\"\n",
        "mystring3[::-2]\n"
      ],
      "metadata": {
        "colab": {
          "base_uri": "https://localhost:8080/",
          "height": 36
        },
        "id": "Iii-bSzMwk_2",
        "outputId": "7cc690bb-e222-4963-9be2-bfe0b8b6df0b"
      },
      "execution_count": null,
      "outputs": [
        {
          "output_type": "execute_result",
          "data": {
            "text/plain": [
              "'GIRE'"
            ],
            "application/vnd.google.colaboratory.intrinsic+json": {
              "type": "string"
            }
          },
          "metadata": {},
          "execution_count": 30
        }
      ]
    },
    {
      "cell_type": "code",
      "source": [
        "str1 = \"I enjoy python\"\n",
        "str2 =\"class\""
      ],
      "metadata": {
        "id": "Qq_1csewx8Z6"
      },
      "execution_count": null,
      "outputs": []
    },
    {
      "cell_type": "code",
      "source": [
        "print(str1+\" \"+str2)"
      ],
      "metadata": {
        "colab": {
          "base_uri": "https://localhost:8080/"
        },
        "id": "PH-QYura0m0A",
        "outputId": "6cff9aec-d3dc-46b4-c2de-bd7b8ee386a0"
      },
      "execution_count": null,
      "outputs": [
        {
          "output_type": "stream",
          "name": "stdout",
          "text": [
            "I enjoy python class\n"
          ]
        }
      ]
    },
    {
      "cell_type": "code",
      "source": [
        "str3 = \"write this 5 times\\n\"\n",
        "print(str3*5)"
      ],
      "metadata": {
        "colab": {
          "base_uri": "https://localhost:8080/"
        },
        "id": "gMMOsSXc1DAw",
        "outputId": "53d32b9c-6a3f-4b88-cd88-402399296d63"
      },
      "execution_count": null,
      "outputs": [
        {
          "output_type": "stream",
          "name": "stdout",
          "text": [
            "write this 5 times\n",
            "write this 5 times\n",
            "write this 5 times\n",
            "write this 5 times\n",
            "write this 5 times\n",
            "\n"
          ]
        }
      ]
    },
    {
      "cell_type": "code",
      "source": [
        "\"10\"+\"6\""
      ],
      "metadata": {
        "colab": {
          "base_uri": "https://localhost:8080/",
          "height": 36
        },
        "id": "hKw_2iOb1s0I",
        "outputId": "d60b0d70-3096-44f1-9f3d-2e7287d9ff96"
      },
      "execution_count": null,
      "outputs": [
        {
          "output_type": "execute_result",
          "data": {
            "text/plain": [
              "'106'"
            ],
            "application/vnd.google.colaboratory.intrinsic+json": {
              "type": "string"
            }
          },
          "metadata": {},
          "execution_count": 34
        }
      ]
    },
    {
      "cell_type": "code",
      "source": [
        "10+6"
      ],
      "metadata": {
        "colab": {
          "base_uri": "https://localhost:8080/"
        },
        "id": "pSo1eYEL103Q",
        "outputId": "21360ad3-b3ea-4acc-e24f-e09901122dc3"
      },
      "execution_count": null,
      "outputs": [
        {
          "output_type": "execute_result",
          "data": {
            "text/plain": [
              "16"
            ]
          },
          "metadata": {},
          "execution_count": 35
        }
      ]
    },
    {
      "cell_type": "code",
      "source": [
        "str4 = \"123\"\n",
        "print(id(str4))"
      ],
      "metadata": {
        "colab": {
          "base_uri": "https://localhost:8080/"
        },
        "id": "6XSKN6tS14WD",
        "outputId": "93333869-7470-408b-c98c-53bcdaf1464f"
      },
      "execution_count": null,
      "outputs": [
        {
          "output_type": "stream",
          "name": "stdout",
          "text": [
            "140144763758320\n"
          ]
        }
      ]
    },
    {
      "cell_type": "code",
      "source": [
        "str4 = \"234\"\n",
        "print(id(str4))"
      ],
      "metadata": {
        "colab": {
          "base_uri": "https://localhost:8080/"
        },
        "id": "3kFiUiJv2q7w",
        "outputId": "ce7738d6-8206-4eda-92dd-460cda769343"
      },
      "execution_count": null,
      "outputs": [
        {
          "output_type": "stream",
          "name": "stdout",
          "text": [
            "140144676052848\n"
          ]
        }
      ]
    },
    {
      "cell_type": "code",
      "source": [
        "print(str4)"
      ],
      "metadata": {
        "colab": {
          "base_uri": "https://localhost:8080/"
        },
        "id": "EUEY0j_n36bJ",
        "outputId": "be0a516b-e5f2-4d32-d336-b42bbe12a93b"
      },
      "execution_count": null,
      "outputs": [
        {
          "output_type": "stream",
          "name": "stdout",
          "text": [
            "234\n"
          ]
        }
      ]
    },
    {
      "cell_type": "code",
      "source": [
        "mystring =\"THIS IS UPPERCASE\"\n",
        "mystring.casefold()"
      ],
      "metadata": {
        "colab": {
          "base_uri": "https://localhost:8080/",
          "height": 36
        },
        "id": "TXCgqNJ74U0i",
        "outputId": "a0fc31c0-bead-41b4-acb8-7aaf0170a7d0"
      },
      "execution_count": null,
      "outputs": [
        {
          "output_type": "execute_result",
          "data": {
            "text/plain": [
              "'this is uppercase'"
            ],
            "application/vnd.google.colaboratory.intrinsic+json": {
              "type": "string"
            }
          },
          "metadata": {},
          "execution_count": 39
        }
      ]
    },
    {
      "cell_type": "code",
      "source": [
        "mystring2 =\"this is uppercase!\"\n",
        "mystring2.upper()"
      ],
      "metadata": {
        "colab": {
          "base_uri": "https://localhost:8080/",
          "height": 36
        },
        "id": "GF29u_uc4Ume",
        "outputId": "f0557541-ca85-4a54-ec85-e4d048a5da16"
      },
      "execution_count": null,
      "outputs": [
        {
          "output_type": "execute_result",
          "data": {
            "text/plain": [
              "'THIS IS UPPERCASE!'"
            ],
            "application/vnd.google.colaboratory.intrinsic+json": {
              "type": "string"
            }
          },
          "metadata": {},
          "execution_count": 40
        }
      ]
    },
    {
      "cell_type": "code",
      "source": [
        "mystring2.replace(\"i\",\"e\")"
      ],
      "metadata": {
        "colab": {
          "base_uri": "https://localhost:8080/",
          "height": 36
        },
        "id": "FE4nkIEX5LHA",
        "outputId": "01af81c8-27e4-423e-b760-d637ac3a541b"
      },
      "execution_count": null,
      "outputs": [
        {
          "output_type": "execute_result",
          "data": {
            "text/plain": [
              "'thes es uppercase!'"
            ],
            "application/vnd.google.colaboratory.intrinsic+json": {
              "type": "string"
            }
          },
          "metadata": {},
          "execution_count": 41
        }
      ]
    },
    {
      "cell_type": "code",
      "source": [
        "mystring2.split(\"i\")"
      ],
      "metadata": {
        "colab": {
          "base_uri": "https://localhost:8080/"
        },
        "id": "aUxFNoV66VDE",
        "outputId": "73428641-6d4c-406c-9058-6ca4b938de45"
      },
      "execution_count": null,
      "outputs": [
        {
          "output_type": "execute_result",
          "data": {
            "text/plain": [
              "['th', 's ', 's uppercase!']"
            ]
          },
          "metadata": {},
          "execution_count": 42
        }
      ]
    },
    {
      "cell_type": "code",
      "source": [
        "\"My salary will be {} by next April\".format(10000)"
      ],
      "metadata": {
        "colab": {
          "base_uri": "https://localhost:8080/",
          "height": 36
        },
        "id": "ZQ0WI2A271aw",
        "outputId": "f111d75b-bbc5-4219-fb40-cd45103717ee"
      },
      "execution_count": null,
      "outputs": [
        {
          "output_type": "execute_result",
          "data": {
            "text/plain": [
              "'My salary will be 10000 by next April'"
            ],
            "application/vnd.google.colaboratory.intrinsic+json": {
              "type": "string"
            }
          },
          "metadata": {},
          "execution_count": 43
        }
      ]
    },
    {
      "cell_type": "code",
      "source": [
        "mystring4 = \"My salary will be {} by next {}\"\n",
        "salary = 5000\n",
        "period = \"April\"\n",
        "print(mystring4.format(salary,period))\n"
      ],
      "metadata": {
        "colab": {
          "base_uri": "https://localhost:8080/"
        },
        "id": "ws5_u9G_8NEr",
        "outputId": "82bee2f4-7f5a-4721-d9d1-97959a396a3c"
      },
      "execution_count": null,
      "outputs": [
        {
          "output_type": "stream",
          "name": "stdout",
          "text": [
            "My salary will be 5000 by next April\n"
          ]
        }
      ]
    },
    {
      "cell_type": "code",
      "source": [
        "mystring5 = \"I bought {1} kg of {2} that cost me {0} pounds\"\n",
        "product = \"apples\"\n",
        "weight = 10\n",
        "cost = 25\n",
        "print(mystring5.format(cost,weight,product))"
      ],
      "metadata": {
        "colab": {
          "base_uri": "https://localhost:8080/"
        },
        "id": "fSK37cPx9qiw",
        "outputId": "68636778-9700-4c46-d06f-068f8c8dd534"
      },
      "execution_count": null,
      "outputs": [
        {
          "output_type": "stream",
          "name": "stdout",
          "text": [
            "I bought 10 kg of apples that cost me 25 pounds\n"
          ]
        }
      ]
    },
    {
      "cell_type": "code",
      "source": [
        "mystring5 = \"I bought {0} kg of {1} that cost me {2} pounds\"\n",
        "product = \"apples\"\n",
        "weight = 10\n",
        "cost = 25\n",
        "print(mystring5.format(weight,product,cost))"
      ],
      "metadata": {
        "colab": {
          "base_uri": "https://localhost:8080/"
        },
        "id": "tv3ML9CgMHXo",
        "outputId": "bfd9ff24-4dc2-4e3c-daa9-f49e854752fc"
      },
      "execution_count": null,
      "outputs": [
        {
          "output_type": "stream",
          "name": "stdout",
          "text": [
            "I bought 10 kg of apples that cost me 25 pounds\n"
          ]
        }
      ]
    },
    {
      "cell_type": "code",
      "source": [
        "mystring5 = \"I bought {2} kg of {0} that cost me {1} pounds\"\n",
        "product = \"apples\"\n",
        "weight = 10\n",
        "cost = 25\n",
        "print(mystring5.format(product,cost,weight))"
      ],
      "metadata": {
        "colab": {
          "base_uri": "https://localhost:8080/"
        },
        "id": "XFpKCYJRMIjN",
        "outputId": "9883b114-fc8d-43b8-d6a4-ca2e163fd7a1"
      },
      "execution_count": null,
      "outputs": [
        {
          "output_type": "stream",
          "name": "stdout",
          "text": [
            "I bought 10 kg of apples that cost me 25 pounds\n"
          ]
        }
      ]
    },
    {
      "cell_type": "code",
      "source": [
        "mystring5 = \"I bought {2} kg of {1} that cost me {0} pounds\"\n",
        "product = \"apples\"\n",
        "weight = 10\n",
        "cost = 25\n",
        "print(mystring5.format(cost,product,weight))"
      ],
      "metadata": {
        "colab": {
          "base_uri": "https://localhost:8080/"
        },
        "id": "8N48mmyDNJjH",
        "outputId": "932351be-5228-4c7c-eacc-ad7b33a954c4"
      },
      "execution_count": null,
      "outputs": [
        {
          "output_type": "stream",
          "name": "stdout",
          "text": [
            "I bought 10 kg of apples that cost me 25 pounds\n"
          ]
        }
      ]
    },
    {
      "cell_type": "code",
      "source": [
        "mystring6 = \"I bought {a} kg of {b}that cost me {c} pounds\"\n",
        "product = \"apples\"\n",
        "weight = 10\n",
        "cost = 25\n",
        "print(mystring6.format(a=10,b=product, c=25))"
      ],
      "metadata": {
        "colab": {
          "base_uri": "https://localhost:8080/"
        },
        "id": "vUjY4XGE_fhL",
        "outputId": "d6db5ef0-4065-4982-bdf9-d9cf83fdd243"
      },
      "execution_count": null,
      "outputs": [
        {
          "output_type": "stream",
          "name": "stdout",
          "text": [
            "I bought 10 kg of applesthat cost me 25 pounds\n"
          ]
        }
      ]
    },
    {
      "cell_type": "code",
      "source": [
        "var1 =10/6\n"
      ],
      "metadata": {
        "id": "MVsqIIZuCnAd"
      },
      "execution_count": null,
      "outputs": []
    },
    {
      "cell_type": "code",
      "source": [
        "round(var1,5)"
      ],
      "metadata": {
        "colab": {
          "base_uri": "https://localhost:8080/"
        },
        "id": "4lc-Z2reCnR9",
        "outputId": "e8866bc1-dcdd-4a68-e31e-123ff778974e"
      },
      "execution_count": null,
      "outputs": [
        {
          "output_type": "execute_result",
          "data": {
            "text/plain": [
              "1.66667"
            ]
          },
          "metadata": {},
          "execution_count": 51
        }
      ]
    },
    {
      "cell_type": "code",
      "source": [
        "print(\"The area is {v:1.2f}\".format(v=10/6))"
      ],
      "metadata": {
        "colab": {
          "base_uri": "https://localhost:8080/"
        },
        "id": "HKBiFcHtDAUD",
        "outputId": "209902a6-1406-4133-b19e-ce71ff35a5fc"
      },
      "execution_count": null,
      "outputs": [
        {
          "output_type": "stream",
          "name": "stdout",
          "text": [
            "The area is 1.67\n"
          ]
        }
      ]
    },
    {
      "cell_type": "code",
      "source": [
        "print(\"I am roaming %d and %f\"%(100,2.5))"
      ],
      "metadata": {
        "colab": {
          "base_uri": "https://localhost:8080/"
        },
        "id": "X09UHMAVD6WP",
        "outputId": "fbcf2ba0-ad35-4f53-b2fe-19f53b1a9355"
      },
      "execution_count": null,
      "outputs": [
        {
          "output_type": "stream",
          "name": "stdout",
          "text": [
            "I am roaming 100 and 2.500000\n"
          ]
        }
      ]
    },
    {
      "cell_type": "code",
      "source": [
        "10%3"
      ],
      "metadata": {
        "colab": {
          "base_uri": "https://localhost:8080/"
        },
        "id": "LMbbExeKFXFW",
        "outputId": "1b462db4-1be4-494b-99ec-87ec61201d09"
      },
      "execution_count": null,
      "outputs": [
        {
          "output_type": "execute_result",
          "data": {
            "text/plain": [
              "1"
            ]
          },
          "metadata": {},
          "execution_count": 54
        }
      ]
    },
    {
      "cell_type": "code",
      "source": [
        "(5+3*6.666/12)**2"
      ],
      "metadata": {
        "colab": {
          "base_uri": "https://localhost:8080/"
        },
        "id": "G7WuFodNF1iq",
        "outputId": "b8332110-9163-4000-e0e2-160509d733e9"
      },
      "execution_count": null,
      "outputs": [
        {
          "output_type": "execute_result",
          "data": {
            "text/plain": [
              "44.44222225"
            ]
          },
          "metadata": {},
          "execution_count": 55
        }
      ]
    },
    {
      "cell_type": "code",
      "source": [
        "r=5.2\n",
        "pi =3.14\n",
        "circum =2*pi*r\n",
        "print(circum)\n",
        "circum<20"
      ],
      "metadata": {
        "colab": {
          "base_uri": "https://localhost:8080/"
        },
        "id": "VQEc_2KNGKOh",
        "outputId": "62c96dde-51cf-4b33-c54a-ec02049607d2"
      },
      "execution_count": null,
      "outputs": [
        {
          "output_type": "stream",
          "name": "stdout",
          "text": [
            "32.656000000000006\n"
          ]
        },
        {
          "output_type": "execute_result",
          "data": {
            "text/plain": [
              "False"
            ]
          },
          "metadata": {},
          "execution_count": 56
        }
      ]
    },
    {
      "cell_type": "code",
      "source": [
        "not(3<5)"
      ],
      "metadata": {
        "colab": {
          "base_uri": "https://localhost:8080/"
        },
        "id": "BqJHMHbQHI5T",
        "outputId": "cff084e9-5233-416f-b27f-5099aab8c544"
      },
      "execution_count": null,
      "outputs": [
        {
          "output_type": "execute_result",
          "data": {
            "text/plain": [
              "False"
            ]
          },
          "metadata": {},
          "execution_count": 57
        }
      ]
    },
    {
      "cell_type": "code",
      "source": [
        "x=5.5\n",
        "type(x)"
      ],
      "metadata": {
        "colab": {
          "base_uri": "https://localhost:8080/"
        },
        "id": "j-sHaJvwHyze",
        "outputId": "c1488c9b-d8a6-4b1d-d21d-0d22d79f1a04"
      },
      "execution_count": null,
      "outputs": [
        {
          "output_type": "execute_result",
          "data": {
            "text/plain": [
              "float"
            ]
          },
          "metadata": {},
          "execution_count": 58
        }
      ]
    },
    {
      "cell_type": "code",
      "source": [
        "int(x)"
      ],
      "metadata": {
        "colab": {
          "base_uri": "https://localhost:8080/"
        },
        "id": "ihhK4EPvIIDS",
        "outputId": "dc0c51e0-47b9-46f6-af41-e843acb43069"
      },
      "execution_count": null,
      "outputs": [
        {
          "output_type": "execute_result",
          "data": {
            "text/plain": [
              "5"
            ]
          },
          "metadata": {},
          "execution_count": 59
        }
      ]
    },
    {
      "cell_type": "code",
      "source": [
        "round"
      ],
      "metadata": {
        "colab": {
          "base_uri": "https://localhost:8080/"
        },
        "id": "5oeIClxyIhMY",
        "outputId": "10b52048-c304-4db3-df34-7bcbe731330b"
      },
      "execution_count": null,
      "outputs": [
        {
          "output_type": "execute_result",
          "data": {
            "text/plain": [
              "<function round(number, ndigits=None)>"
            ]
          },
          "metadata": {},
          "execution_count": 60
        }
      ]
    },
    {
      "cell_type": "code",
      "source": [
        "replace()"
      ],
      "metadata": {
        "id": "SlEbn8yEIzUS",
        "colab": {
          "base_uri": "https://localhost:8080/",
          "height": 165
        },
        "outputId": "bb2411df-1de6-4fc2-c6cd-b80306cd40e6"
      },
      "execution_count": null,
      "outputs": [
        {
          "output_type": "error",
          "ename": "NameError",
          "evalue": "ignored",
          "traceback": [
            "\u001b[0;31m---------------------------------------------------------------------------\u001b[0m",
            "\u001b[0;31mNameError\u001b[0m                                 Traceback (most recent call last)",
            "\u001b[0;32m<ipython-input-61-f84846347503>\u001b[0m in \u001b[0;36m<module>\u001b[0;34m\u001b[0m\n\u001b[0;32m----> 1\u001b[0;31m \u001b[0mreplace\u001b[0m\u001b[0;34m(\u001b[0m\u001b[0;34m)\u001b[0m\u001b[0;34m\u001b[0m\u001b[0;34m\u001b[0m\u001b[0m\n\u001b[0m",
            "\u001b[0;31mNameError\u001b[0m: name 'replace' is not defined"
          ]
        }
      ]
    },
    {
      "cell_type": "code",
      "source": [
        "x=-10\n",
        "if x%2==0:\n",
        "  print(\"this is an even number!\")\n"
      ],
      "metadata": {
        "id": "6jjCXgxA1Liz"
      },
      "execution_count": null,
      "outputs": []
    },
    {
      "cell_type": "code",
      "source": [
        "x=7\n",
        "if x%2==0:\n",
        "  print(\"this is an even number!\")\n",
        "else:\n",
        "    print(\"This is an odd number!\")"
      ],
      "metadata": {
        "id": "vdvNV4AY1qbd"
      },
      "execution_count": null,
      "outputs": []
    },
    {
      "cell_type": "code",
      "source": [
        "a,b=15,12\n",
        "if a==b:\n",
        "  print(\"The two nos. are equal\")\n",
        "elif a>b:\n",
        "  print(\"First no. is greater than the second\")\n",
        "else:\n",
        "  print(\"first no. is smaller than the second\")"
      ],
      "metadata": {
        "id": "j96WXiau5j5s"
      },
      "execution_count": null,
      "outputs": []
    },
    {
      "cell_type": "code",
      "source": [
        "for r in range(0,6):\n",
        "  print(\"print the iteration number is {}\".format(r))"
      ],
      "metadata": {
        "id": "jtpt29Uw9xII"
      },
      "execution_count": null,
      "outputs": []
    },
    {
      "cell_type": "code",
      "source": [
        "mylist = [\"Michael\",\"Sean\", \"Michael\", \"Adam\"]\n",
        "print(mylist)"
      ],
      "metadata": {
        "id": "3KgU1FnZHHVR"
      },
      "execution_count": null,
      "outputs": []
    },
    {
      "cell_type": "code",
      "source": [
        "mylist[1]=\"Sam\"\n",
        "mylist"
      ],
      "metadata": {
        "colab": {
          "base_uri": "https://localhost:8080/",
          "height": 182
        },
        "id": "byqxejzhHVzd",
        "outputId": "4f4de66a-f3dc-4e9a-9e4e-3ece2de7ad71"
      },
      "execution_count": null,
      "outputs": [
        {
          "output_type": "error",
          "ename": "NameError",
          "evalue": "ignored",
          "traceback": [
            "\u001b[0;31m---------------------------------------------------------------------------\u001b[0m",
            "\u001b[0;31mNameError\u001b[0m                                 Traceback (most recent call last)",
            "\u001b[0;32m<ipython-input-63-8389b621d5da>\u001b[0m in \u001b[0;36m<module>\u001b[0;34m\u001b[0m\n\u001b[0;32m----> 1\u001b[0;31m \u001b[0mmylist\u001b[0m\u001b[0;34m[\u001b[0m\u001b[0;36m1\u001b[0m\u001b[0;34m]\u001b[0m\u001b[0;34m=\u001b[0m\u001b[0;34m\"Sam\"\u001b[0m\u001b[0;34m\u001b[0m\u001b[0;34m\u001b[0m\u001b[0m\n\u001b[0m\u001b[1;32m      2\u001b[0m \u001b[0mmylist\u001b[0m\u001b[0;34m\u001b[0m\u001b[0;34m\u001b[0m\u001b[0m\n",
            "\u001b[0;31mNameError\u001b[0m: name 'mylist' is not defined"
          ]
        }
      ]
    },
    {
      "cell_type": "code",
      "source": [
        "print(len(mylist))\n",
        "print(type(mylist))\n",
        "if \"Joan\" in mylist:\n",
        "  print(\"yes\")\n",
        "else:\n",
        "  print(\"no\")"
      ],
      "metadata": {
        "id": "OWiFoJE1INMt"
      },
      "execution_count": null,
      "outputs": []
    },
    {
      "cell_type": "code",
      "source": [
        "mylist.insert(4,\"Joan\")\n",
        "mylist"
      ],
      "metadata": {
        "id": "h53nyBQPJQcg"
      },
      "execution_count": null,
      "outputs": []
    },
    {
      "cell_type": "code",
      "source": [
        "mylist2= [\"michael\", \"Sean\",\"Joan\", \"Adam\"]\n",
        "mylist2.sort()\n",
        "print(mylist2)\n",
        "mylist2.sort(reverse=True)\n",
        "mylist2.sort(reverse=False)\n",
        "print(mylist2)\n",
        "mylist2.reverse()\n",
        "print(mylist2)\n"
      ],
      "metadata": {
        "colab": {
          "base_uri": "https://localhost:8080/"
        },
        "id": "l-uEv6w1TPFA",
        "outputId": "b295469d-52d5-4a7a-81ba-26e9e372ecc3"
      },
      "execution_count": null,
      "outputs": [
        {
          "output_type": "stream",
          "name": "stdout",
          "text": [
            "['Adam', 'Joan', 'Sean', 'michael']\n",
            "['Adam', 'Joan', 'Sean', 'michael']\n",
            "['michael', 'Sean', 'Joan', 'Adam']\n"
          ]
        }
      ]
    },
    {
      "cell_type": "code",
      "source": [
        "mylist2= [\"michael\", \"Sean\",\"Joan\", \"Adam\"]\n",
        "mylist3=[\"Alex\", \"Zara\"]\n",
        "print(mylist3+mylist2)"
      ],
      "metadata": {
        "colab": {
          "base_uri": "https://localhost:8080/"
        },
        "id": "NcK4AvfmVBpi",
        "outputId": "03b04363-3284-4f12-e6e7-5343106cfa84"
      },
      "execution_count": null,
      "outputs": [
        {
          "output_type": "stream",
          "name": "stdout",
          "text": [
            "['Alex', 'Zara', 'michael', 'Sean', 'Joan', 'Adam']\n"
          ]
        }
      ]
    },
    {
      "cell_type": "code",
      "source": [
        "mydict={\"employee\":\"Zara\",\"department\":\"Operations\",\"last salary\":50000}\n",
        "mydictkeys = mydict.keys()\n",
        "print(mydictkeys)"
      ],
      "metadata": {
        "colab": {
          "base_uri": "https://localhost:8080/"
        },
        "id": "iuQJrR2Yrr50",
        "outputId": "45cbf455-f404-4a61-8138-4069c5d238e0"
      },
      "execution_count": null,
      "outputs": [
        {
          "output_type": "stream",
          "name": "stdout",
          "text": [
            "dict_keys(['employee', 'department', 'last salary'])\n"
          ]
        }
      ]
    },
    {
      "cell_type": "code",
      "source": [
        "mydict={\"employee\":\"Zara\",\"department\":\"Operations\",\"last salary\":50000}\n",
        "mydictkeys = mydict.values()\n",
        "print(mydictkeys)"
      ],
      "metadata": {
        "colab": {
          "base_uri": "https://localhost:8080/"
        },
        "id": "dKGnIfigsTjr",
        "outputId": "3a39f379-9cc6-4efc-e0b5-f62fa01e1166"
      },
      "execution_count": null,
      "outputs": [
        {
          "output_type": "stream",
          "name": "stdout",
          "text": [
            "dict_values(['Zara', 'Operations', 50000])\n"
          ]
        }
      ]
    },
    {
      "cell_type": "code",
      "source": [
        "mydict={\"employee\":\"Zara\",\"department\":\"Operations\",\"last salary\":50000}\n",
        "mydictkeys = mydict.items()\n",
        "print(mydictkeys)"
      ],
      "metadata": {
        "colab": {
          "base_uri": "https://localhost:8080/"
        },
        "id": "F_OCGaEUsuXC",
        "outputId": "12907fbd-2d6c-4dc0-8151-98cd3a2cbd6d"
      },
      "execution_count": null,
      "outputs": [
        {
          "output_type": "stream",
          "name": "stdout",
          "text": [
            "dict_items([('employee', 'Zara'), ('department', 'Operations'), ('last salary', 50000)])\n"
          ]
        }
      ]
    },
    {
      "cell_type": "code",
      "source": [
        "mydict={\"employee\":\"Zara\",\"department\":\"Operations\",\"last salary\":50000}\n",
        "mydict.pop(\"employee\")\n",
        "print(mydict)"
      ],
      "metadata": {
        "colab": {
          "base_uri": "https://localhost:8080/"
        },
        "id": "IAzKKefpvGOg",
        "outputId": "7890011d-ace4-4ddd-f474-71d404926185"
      },
      "execution_count": null,
      "outputs": [
        {
          "output_type": "stream",
          "name": "stdout",
          "text": [
            "{'department': 'Operations', 'last salary': 50000}\n"
          ]
        }
      ]
    },
    {
      "cell_type": "code",
      "source": [
        "mydict={\"employee\":\"Zara\",\"department\":\"Operations\",\"last salary\":50000}\n",
        "for keys,values in mydict.items():\n",
        " print(keys,values)\n"
      ],
      "metadata": {
        "colab": {
          "base_uri": "https://localhost:8080/"
        },
        "id": "VgXy4B6oy3wa",
        "outputId": "d8808be2-dc56-4035-99f3-b8050acea3b0"
      },
      "execution_count": null,
      "outputs": [
        {
          "output_type": "stream",
          "name": "stdout",
          "text": [
            "employee Zara\n",
            "department Operations\n",
            "last salary 50000\n"
          ]
        }
      ]
    },
    {
      "cell_type": "code",
      "source": [
        "mydict={\"employee\":\"Zara\",\"department\":\"Operations\",\"last salary\":50000}\n",
        "for keys,values in mydict.items():\n",
        " print(keys,values)\n",
        " delete = input(\"employee:\")\n",
        "mydict.pop(delete)\n",
        "print(\"my dict is:\")\n",
        "for keys,values in mydict.items():\n",
        "  print(keys,values)"
      ],
      "metadata": {
        "colab": {
          "base_uri": "https://localhost:8080/"
        },
        "id": "Yr1zCba20dWv",
        "outputId": "1ef2b89b-a74e-4e4a-ef7f-3a9b859ef264"
      },
      "execution_count": null,
      "outputs": [
        {
          "output_type": "stream",
          "name": "stdout",
          "text": [
            "employee Zara\n"
          ]
        }
      ]
    },
    {
      "cell_type": "code",
      "source": [
        "myset={\"apple\",\"banana\",\"orange\",1,2,3,True}\n",
        "myset\n",
        "print(len(myset))"
      ],
      "metadata": {
        "colab": {
          "base_uri": "https://localhost:8080/"
        },
        "id": "7B0Lhpil8zTg",
        "outputId": "96997076-c254-4998-8bc5-2d9ffe63d287"
      },
      "execution_count": null,
      "outputs": [
        {
          "output_type": "stream",
          "name": "stdout",
          "text": [
            "6\n"
          ]
        }
      ]
    },
    {
      "cell_type": "code",
      "source": [
        "myset={\"apple\",\"banana\",\"orange\",1,2,3,True}\n",
        "myset[1:4]"
      ],
      "metadata": {
        "colab": {
          "base_uri": "https://localhost:8080/",
          "height": 182
        },
        "id": "CgRWOkiN9eAX",
        "outputId": "3c268b77-8ed2-4872-ee01-c50f5444cd25"
      },
      "execution_count": null,
      "outputs": [
        {
          "output_type": "error",
          "ename": "TypeError",
          "evalue": "ignored",
          "traceback": [
            "\u001b[0;31m---------------------------------------------------------------------------\u001b[0m",
            "\u001b[0;31mTypeError\u001b[0m                                 Traceback (most recent call last)",
            "\u001b[0;32m<ipython-input-5-cf33ae9b2a25>\u001b[0m in \u001b[0;36m<module>\u001b[0;34m\u001b[0m\n\u001b[1;32m      1\u001b[0m \u001b[0mmyset\u001b[0m\u001b[0;34m=\u001b[0m\u001b[0;34m{\u001b[0m\u001b[0;34m\"apple\"\u001b[0m\u001b[0;34m,\u001b[0m\u001b[0;34m\"banana\"\u001b[0m\u001b[0;34m,\u001b[0m\u001b[0;34m\"orange\"\u001b[0m\u001b[0;34m,\u001b[0m\u001b[0;36m1\u001b[0m\u001b[0;34m,\u001b[0m\u001b[0;36m2\u001b[0m\u001b[0;34m,\u001b[0m\u001b[0;36m3\u001b[0m\u001b[0;34m,\u001b[0m\u001b[0;32mTrue\u001b[0m\u001b[0;34m}\u001b[0m\u001b[0;34m\u001b[0m\u001b[0;34m\u001b[0m\u001b[0m\n\u001b[0;32m----> 2\u001b[0;31m \u001b[0mmyset\u001b[0m\u001b[0;34m[\u001b[0m\u001b[0;36m1\u001b[0m\u001b[0;34m:\u001b[0m\u001b[0;36m4\u001b[0m\u001b[0;34m]\u001b[0m\u001b[0;34m\u001b[0m\u001b[0;34m\u001b[0m\u001b[0m\n\u001b[0m",
            "\u001b[0;31mTypeError\u001b[0m: 'set' object is not subscriptable"
          ]
        }
      ]
    },
    {
      "cell_type": "markdown",
      "source": [],
      "metadata": {
        "id": "bfQUPeS38zGc"
      }
    },
    {
      "cell_type": "code",
      "source": [
        "import numpy as np"
      ],
      "metadata": {
        "id": "bmLMsEXm_v3M"
      },
      "execution_count": null,
      "outputs": []
    },
    {
      "cell_type": "code",
      "source": [],
      "metadata": {
        "id": "-imaaZ-W_0IB"
      },
      "execution_count": null,
      "outputs": []
    }
  ]
}